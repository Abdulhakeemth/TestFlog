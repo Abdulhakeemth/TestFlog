{
  "nbformat": 4,
  "nbformat_minor": 0,
  "metadata": {
    "colab": {
      "name": "TestFloges.ipynb",
      "provenance": [],
      "collapsed_sections": []
    },
    "kernelspec": {
      "name": "python3",
      "display_name": "Python 3"
    },
    "language_info": {
      "name": "python"
    }
  },
  "cells": [
    {
      "cell_type": "code",
      "source": [
        "import json\n",
        "def find_missing(delivery_list, bag):\n",
        "    for item in items :\n",
        "        if item[\"id\"] not in bag :\n",
        "            bag.append(item[\"id\"])\n",
        "    result = []\n",
        "    for abc in delivery_list :\n",
        "        for item in items :\n",
        "            if abc in item[\"id\"] :\n",
        "                row= { \"id\": abc, \"name\": item['name'] }\n",
        "                result.append(row)\n",
        "    return result"
      ],
      "metadata": {
        "id": "FxUzs4CVa2Hp"
      },
      "execution_count": 3,
      "outputs": []
    },
    {
      "cell_type": "code",
      "source": [],
      "metadata": {
        "id": "ebmvDVmWCBtI"
      },
      "execution_count": null,
      "outputs": []
    }
  ]
}